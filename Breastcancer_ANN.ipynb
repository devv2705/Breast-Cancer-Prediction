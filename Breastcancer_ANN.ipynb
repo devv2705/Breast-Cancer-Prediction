{
  "nbformat": 4,
  "nbformat_minor": 0,
  "metadata": {
    "colab": {
      "provenance": []
    },
    "kernelspec": {
      "name": "python3",
      "display_name": "Python 3"
    },
    "language_info": {
      "name": "python"
    }
  },
  "cells": [
    {
      "cell_type": "markdown",
      "source": [
        "*Importing* Libraries"
      ],
      "metadata": {
        "id": "htOpxV1iKHB6"
      }
    },
    {
      "cell_type": "code",
      "execution_count": null,
      "metadata": {
        "id": "6RbNHAJgKEnU"
      },
      "outputs": [],
      "source": [
        "import numpy as np\n",
        "import pandas as pd\n",
        "import matplotlib.pyplot as plt\n",
        "from sklearn.model_selection import train_test_split"
      ]
    },
    {
      "cell_type": "markdown",
      "source": [
        "Importing The Dataset"
      ],
      "metadata": {
        "id": "BEejAsjM61bN"
      }
    },
    {
      "cell_type": "code",
      "source": [
        "df = pd.read_csv('breast_cancer.csv')\n",
        "#print(df.columns)\n",
        "X = df.iloc[:, :-1].values  #independent variables\n",
        "y = df.iloc[:, -1].values   #dependent variables"
      ],
      "metadata": {
        "id": "BBttu8Ud67ON"
      },
      "execution_count": null,
      "outputs": []
    },
    {
      "cell_type": "markdown",
      "source": [
        "Splitting The Data Into Training Set And Test Set"
      ],
      "metadata": {
        "id": "ZKjtvOQi79oW"
      }
    },
    {
      "cell_type": "code",
      "source": [
        "X_train, X_test, y_train, y_test = train_test_split(X, y, test_size = 0.2, random_state = 0)"
      ],
      "metadata": {
        "id": "Lfa-IXOo8Dvu"
      },
      "execution_count": null,
      "outputs": []
    },
    {
      "cell_type": "markdown",
      "source": [
        "Feature Scaling"
      ],
      "metadata": {
        "id": "cVVx-QhRH2nR"
      }
    },
    {
      "cell_type": "code",
      "source": [
        "from sklearn.preprocessing import StandardScaler\n",
        "sc = StandardScaler()\n",
        "X_train_std = sc.fit_transform(X_train)\n",
        "X_test_std = sc.transform(X_test)"
      ],
      "metadata": {
        "id": "bRTAGhSSH1j5"
      },
      "execution_count": null,
      "outputs": []
    },
    {
      "cell_type": "markdown",
      "source": [
        "Building The Neural Network"
      ],
      "metadata": {
        "id": "pv6cPGs_9bXU"
      }
    },
    {
      "cell_type": "code",
      "source": [
        "#importing the necessary libraries\n",
        "import tensorflow as tf\n",
        "tf.random.set_seed(3)\n",
        "from tensorflow import keras"
      ],
      "metadata": {
        "id": "g5F0GMz89Yqs"
      },
      "execution_count": null,
      "outputs": []
    },
    {
      "cell_type": "code",
      "source": [
        "#setting up the layers of the neural network\n",
        "model = keras.Sequential([\n",
        "                          keras.layers.Flatten(input_shape=(10,)),\n",
        "                          keras.layers.Dense(15, activation='relu'),\n",
        "                          keras.layers.Dense(2, activation='sigmoid')\n",
        "])"
      ],
      "metadata": {
        "id": "hLhozJHr-cd0"
      },
      "execution_count": null,
      "outputs": []
    },
    {
      "cell_type": "code",
      "source": [
        "#compliling the neural network\n",
        "model.compile(optimizer='adam',\n",
        "              loss='sparse_categorical_crossentropy',\n",
        "              metrics=['accuracy'])"
      ],
      "metadata": {
        "id": "CkGtPS2XBvjU"
      },
      "execution_count": null,
      "outputs": []
    },
    {
      "cell_type": "code",
      "source": [
        "#training the neural network\n",
        "history = model.fit(X_train_std, y_train, validation_split=0.1, epochs=10)"
      ],
      "metadata": {
        "colab": {
          "base_uri": "https://localhost:8080/"
        },
        "id": "w-fB9MIZCZFa",
        "outputId": "f72ed6d8-a5cd-40a5-9d17-e05197c427c8"
      },
      "execution_count": null,
      "outputs": [
        {
          "output_type": "stream",
          "name": "stdout",
          "text": [
            "Epoch 1/10\n",
            "16/16 [==============================] - 2s 34ms/step - loss: 0.7103 - accuracy: 0.5418 - val_loss: 0.5749 - val_accuracy: 0.7455\n",
            "Epoch 2/10\n",
            "16/16 [==============================] - 0s 13ms/step - loss: 0.5213 - accuracy: 0.7862 - val_loss: 0.4395 - val_accuracy: 0.8545\n",
            "Epoch 3/10\n",
            "16/16 [==============================] - 0s 9ms/step - loss: 0.3917 - accuracy: 0.8961 - val_loss: 0.3494 - val_accuracy: 0.9636\n",
            "Epoch 4/10\n",
            "16/16 [==============================] - 0s 9ms/step - loss: 0.3041 - accuracy: 0.9369 - val_loss: 0.2885 - val_accuracy: 0.9818\n",
            "Epoch 5/10\n",
            "16/16 [==============================] - 0s 11ms/step - loss: 0.2449 - accuracy: 0.9532 - val_loss: 0.2459 - val_accuracy: 0.9818\n",
            "Epoch 6/10\n",
            "16/16 [==============================] - 0s 9ms/step - loss: 0.2041 - accuracy: 0.9633 - val_loss: 0.2151 - val_accuracy: 0.9818\n",
            "Epoch 7/10\n",
            "16/16 [==============================] - 0s 9ms/step - loss: 0.1742 - accuracy: 0.9654 - val_loss: 0.1925 - val_accuracy: 0.9636\n",
            "Epoch 8/10\n",
            "16/16 [==============================] - 0s 9ms/step - loss: 0.1525 - accuracy: 0.9654 - val_loss: 0.1753 - val_accuracy: 0.9636\n",
            "Epoch 9/10\n",
            "16/16 [==============================] - 0s 7ms/step - loss: 0.1362 - accuracy: 0.9674 - val_loss: 0.1616 - val_accuracy: 0.9636\n",
            "Epoch 10/10\n",
            "16/16 [==============================] - 0s 11ms/step - loss: 0.1239 - accuracy: 0.9695 - val_loss: 0.1509 - val_accuracy: 0.9636\n"
          ]
        }
      ]
    },
    {
      "cell_type": "markdown",
      "source": [
        "Accuracy Of The Model On Test Data"
      ],
      "metadata": {
        "id": "jRuKo7qxKQGY"
      }
    },
    {
      "cell_type": "code",
      "source": [
        "loss, accuracy = model.evaluate(X_test_std, y_test)\n",
        "print(accuracy)"
      ],
      "metadata": {
        "colab": {
          "base_uri": "https://localhost:8080/"
        },
        "id": "-vXJ84ohOJpx",
        "outputId": "d1dd006c-2dcd-44dd-9556-332076f258a1"
      },
      "execution_count": null,
      "outputs": [
        {
          "output_type": "stream",
          "name": "stdout",
          "text": [
            "5/5 [==============================] - 0s 5ms/step - loss: 0.1087 - accuracy: 0.9635\n",
            "0.9635036587715149\n"
          ]
        }
      ]
    },
    {
      "cell_type": "code",
      "source": [
        "#prediction probabilities\n",
        "y_pred = model.predict(X_test_std)\n",
        "print(y_pred[1])"
      ],
      "metadata": {
        "colab": {
          "base_uri": "https://localhost:8080/"
        },
        "id": "nog5BfkwKveo",
        "outputId": "79a9aa22-ddc5-4298-b2bd-602fd8bba248"
      },
      "execution_count": null,
      "outputs": [
        {
          "output_type": "stream",
          "name": "stdout",
          "text": [
            "5/5 [==============================] - 0s 4ms/step\n",
            "[0.97132224 0.5011415 ]\n"
          ]
        }
      ]
    },
    {
      "cell_type": "code",
      "source": [
        "#converting prediction probabilities to class labels\n",
        "y_pred_labels = [np.argmax(i) for i in y_pred]\n",
        "print(y_pred_labels)"
      ],
      "metadata": {
        "colab": {
          "base_uri": "https://localhost:8080/"
        },
        "id": "7K41rkNiLhrQ",
        "outputId": "3ce399b0-972e-4b45-e9d9-b3ce6157c699"
      },
      "execution_count": null,
      "outputs": [
        {
          "output_type": "stream",
          "name": "stdout",
          "text": [
            "[0, 0, 1, 1, 0, 0, 0, 1, 0, 0, 1, 0, 1, 0, 0, 0, 1, 1, 1, 0, 0, 0, 1, 0, 1, 1, 0, 0, 0, 1, 0, 1, 1, 0, 0, 0, 1, 1, 0, 1, 0, 0, 0, 0, 0, 0, 0, 1, 0, 0, 1, 0, 1, 0, 0, 0, 1, 1, 0, 1, 0, 0, 0, 0, 0, 0, 0, 0, 1, 1, 0, 0, 0, 0, 0, 0, 1, 0, 0, 0, 1, 0, 1, 0, 0, 1, 0, 1, 1, 0, 1, 0, 1, 1, 0, 1, 1, 1, 1, 0, 0, 0, 1, 1, 0, 0, 1, 0, 0, 0, 1, 0, 0, 1, 0, 0, 0, 1, 0, 0, 0, 1, 0, 0, 1, 1, 0, 1, 0, 1, 0, 0, 1, 0, 0, 1, 0]\n"
          ]
        }
      ]
    },
    {
      "cell_type": "code",
      "source": [
        "#predicting values of training data to check for overfitting\n",
        "from sklearn.metrics import confusion_matrix, accuracy_score, precision_score, recall_score, f1_score, confusion_matrix\n",
        "x_pred = model.predict(X_train_std)\n",
        "x_pred_labels = [np.argmax(i) for i in x_pred]\n",
        "accuracy_score(y_train, x_pred_labels)"
      ],
      "metadata": {
        "colab": {
          "base_uri": "https://localhost:8080/"
        },
        "id": "VENVnpGsM1-Y",
        "outputId": "500b1871-9b00-4988-e92c-4151dafe7d49"
      },
      "execution_count": null,
      "outputs": [
        {
          "output_type": "stream",
          "name": "stdout",
          "text": [
            "18/18 [==============================] - 0s 6ms/step\n"
          ]
        },
        {
          "output_type": "execute_result",
          "data": {
            "text/plain": [
              "0.9688644688644689"
            ]
          },
          "metadata": {},
          "execution_count": 29
        }
      ]
    },
    {
      "cell_type": "markdown",
      "source": [
        "Precision Score"
      ],
      "metadata": {
        "id": "5TI9NqxoZprY"
      }
    },
    {
      "cell_type": "code",
      "source": [
        "precision = precision_score(y_test, y_pred_labels)\n",
        "print(\"Precision:\", precision)"
      ],
      "metadata": {
        "colab": {
          "base_uri": "https://localhost:8080/"
        },
        "id": "YgCHgDwTYwsq",
        "outputId": "14c81e27-8971-4199-c02f-e3f46a3c1631"
      },
      "execution_count": null,
      "outputs": [
        {
          "output_type": "stream",
          "name": "stdout",
          "text": [
            "Precision: 0.9411764705882353\n"
          ]
        }
      ]
    },
    {
      "cell_type": "markdown",
      "source": [
        "Recall Score"
      ],
      "metadata": {
        "id": "YjtIZegAZw8z"
      }
    },
    {
      "cell_type": "code",
      "source": [
        "recall = recall_score(y_test, y_pred_labels)\n",
        "print(\"Recall:\", recall)"
      ],
      "metadata": {
        "colab": {
          "base_uri": "https://localhost:8080/"
        },
        "id": "-eZ3zqyKY5kH",
        "outputId": "592f17c7-a859-4d56-c8ab-3dd6b88bf578"
      },
      "execution_count": null,
      "outputs": [
        {
          "output_type": "stream",
          "name": "stdout",
          "text": [
            "Recall: 0.96\n"
          ]
        }
      ]
    },
    {
      "cell_type": "markdown",
      "source": [
        "F1 Score"
      ],
      "metadata": {
        "id": "QKmtTgONZzXo"
      }
    },
    {
      "cell_type": "code",
      "source": [
        "f1 = f1_score(y_test, y_pred_labels)\n",
        "print(\"F1-score:\", f1)"
      ],
      "metadata": {
        "colab": {
          "base_uri": "https://localhost:8080/"
        },
        "id": "xnav_5ByZDwn",
        "outputId": "999b2866-de15-402d-bda5-81dc959d048b"
      },
      "execution_count": null,
      "outputs": [
        {
          "output_type": "stream",
          "name": "stdout",
          "text": [
            "F1-score: 0.9504950495049505\n"
          ]
        }
      ]
    },
    {
      "cell_type": "markdown",
      "source": [
        "Confusion Matrix"
      ],
      "metadata": {
        "id": "-yP_jATUZ1YX"
      }
    },
    {
      "cell_type": "code",
      "source": [
        "conf_matrix = confusion_matrix(y_test, y_pred_labels)\n",
        "print(\"Confusion Matrix:\")\n",
        "print(conf_matrix)\n",
        "\n",
        "import seaborn as sns\n",
        "import matplotlib.pyplot as plt\n",
        "from sklearn.metrics import confusion_matrix\n",
        "from sklearn.metrics import ConfusionMatrixDisplay\n",
        "\n",
        "# Assuming conf_matrix is obtained using confusion_matrix(y_test, y_pred_labels)\n",
        "\n",
        "# Create a Seaborn heatmap for the confusion matrix\n",
        "sns.set(font_scale=1.2)  # Adjust font size for better readability\n",
        "plt.figure(figsize=(8, 6))\n",
        "sns.heatmap(conf_matrix, annot=True, fmt='d', cmap='Blues', cbar=False,\n",
        "            xticklabels=['Benign', 'Malignant'], yticklabels=['Benign', 'Malignant'])\n",
        "plt.xlabel('Predicted')\n",
        "plt.ylabel('Actual')\n",
        "plt.title('Confusion Matrix')\n",
        "plt.show()"
      ],
      "metadata": {
        "colab": {
          "base_uri": "https://localhost:8080/",
          "height": 630
        },
        "id": "KRZR0KraZR0A",
        "outputId": "5e612be2-fb83-4da2-e789-b3f6897652d0"
      },
      "execution_count": null,
      "outputs": [
        {
          "output_type": "stream",
          "name": "stdout",
          "text": [
            "Confusion Matrix:\n",
            "[[84  3]\n",
            " [ 2 48]]\n"
          ]
        },
        {
          "output_type": "display_data",
          "data": {
            "text/plain": [
              "<Figure size 800x600 with 1 Axes>"
            ],
            "image/png": "[encoded data removed]"
          },
          "metadata": {}
        }
      ]
    },
    {
      "cell_type": "markdown",
      "source": [
        "Building A Predictive System"
      ],
      "metadata": {
        "id": "lTBz3FuqOa5e"
      }
    },
    {
      "cell_type": "code",
      "source": [
        "input_data = (1168736,10,10,10,10,10,1,8,88,0)\n",
        "\n",
        "#change the input data to a numpy array\n",
        "input_data_np = np.asarray(input_data)\n",
        "\n",
        "#reshape the numpyarray as we are predicting for one data point\n",
        "input_data_reshaped = input_data_np.reshape(1,-1)\n",
        "\n",
        "#feature scaling the input data\n",
        "input_data_std = sc.transform(input_data_reshaped)\n",
        "\n",
        "prediction = model.predict(input_data_std)\n",
        "print(prediction)\n",
        "\n",
        "prediction_label = [np.argmax(prediction)]\n",
        "print(prediction_label)\n",
        "\n",
        "if(prediction_label[0]==0):\n",
        "  print(\"The tumor is Benign.\")\n",
        "\n",
        "else:\n",
        "  print(\"The tumor is Malignant.\")"
      ],
      "metadata": {
        "colab": {
          "base_uri": "https://localhost:8080/"
        },
        "id": "3g0OwPekOdwP",
        "outputId": "94750a4d-2e36-47b2-9abc-4592ce1426bb"
      },
      "execution_count": null,
      "outputs": [
        {
          "output_type": "stream",
          "name": "stdout",
          "text": [
            "1/1 [==============================] - 0s 68ms/step\n",
            "[[0.96946025 0.95074135]]\n",
            "[0]\n",
            "The tumor is Benign.\n"
          ]
        }
      ]
    }
  ]
}